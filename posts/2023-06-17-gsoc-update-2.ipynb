{
 "cells": [
  {
   "cell_type": "raw",
   "metadata": {},
   "source": [
    "---\n",
    "title: Google Summer of Code - Update 2\n",
    "author: Gabriel Stechschulte\n",
    "categories:\n",
    "- open-source\n",
    "- python\n",
    "- bayesian-statistics\n",
    "date: 2023-06-17\n",
    "---"
   ]
  },
  {
   "attachments": {},
   "cell_type": "markdown",
   "metadata": {},
   "source": [
    "It is currently the end of week five of Google Summer of Code 2023. According to the original deliverables table outlined in my proposal, the goal was to have opened a draft PR for the core functionality of the `plot_comparisons`. Subsequently, week six and seven were to be spent further developing the `plot_comparisons` function, and writing tests and a demo notebook for the documentation, respectively. However, in..."
   ]
  },
  {
   "attachments": {},
   "cell_type": "markdown",
   "metadata": {},
   "source": [
    "## Average Predictive Comparisons\n",
    "\n",
    "`comparisons` and `plot_comparisons` are a part of Bambi's sub-package `plots` that feature a set of functions used to interpret complex regression models. This sub-package is inspired by the R package [marginaleffects](https://vincentarelbundock.github.io/marginaleffects/articles/predictions.html#conditional-adjusted-predictions-plot). These two functions allow the modeler to **compare** the predictions made by a model for different contrasts and covariate values.\n",
    "\n",
    "Due to the link function in a GLM, there are typically three quantities of interest to interpret:\n",
    "1. the linear predictor $\\eta = X\\beta$ where $X$ is an $n$ x $p$ matrix of explanatory variables.\n",
    "2. the mean $\\mu = g^{-1}(\\eta)$ where the link function $g(\\cdot)$ relates the linear predictor to the mean of the outcome variable $\\mu = g^{-1}(\\eta) = g^{-1}(X\\beta)$\n",
    "3. the response variable $Y \\sim \\mathcal{D}(\\mu, \\theta)$ where $\\mu$ is the mean parameter and $\\theta$ is (possibly) a vector that contains all the other \"nuissance\" parameters of the distribution.\n",
    " \n",
    "With GLMs, $\\eta$ is linear in the parameters, but non-linear in relation to the outputs $Y$ due to the link function $g$. Thus, as modelers, we are usually more interested in interpreting (2) and (3). For example, in logistic regression, the linear predictor is on the log-odds scale, but the response variable is on the probability scale. In Poisson regression, the linear predictor is on the log-scale, but the response variable is on the count scale. Referring back to logistic regression, a specified difference in one of the $x$ variables does _not_ correspond to a constant difference in the the probability of the outcome.\n",
    "\n",
    "It is often helpful with GLMs, to the modeler and audience, to have a summary that gives the expected difference in the outcome corresponding to a unit difference in each of the input variables. Thus, the goal of `comparisons` and `plot_comparisons` is to provide the modeler with a summary and visualization of the average predicted comparisons."
   ]
  },
  {
   "attachments": {},
   "cell_type": "markdown",
   "metadata": {},
   "source": [
    "### Methodology\n",
    "\n",
    "Here, I adopt the notation from Chapter 14.4 of [Regression and Other Stories](https://avehtari.github.io/ROS-Examples/) to describe average predicted comparisons. \n",
    "\n",
    "Assume we have fit a Bambi model predicting an outcome $Y$ based on inputs $X$ and parameters $\\theta$. Consider the following scalar inputs:\n",
    "\n",
    "$$u: \\text{the input of interest}$$\n",
    "$$v: \\text{all the other inputs}$$\n",
    "$$X = (u, v)$$\n",
    "\n",
    "Suppose for the input of interest, we are interested in comparing $u = u^{\\text{hi}}$ to $u = u^{\\text{low}}$ with all other inputs $v$ held constant. The _predictive difference_ in the outcome changing **only** $u$ from is:\n",
    "\n",
    "$$\\text{predictive difference (comparison)} = \\mathbb{E}(y|u^{\\text{hi}}, v, \\theta) - \\mathbb{E}(y|u^{\\text{lo}}, v, \\theta)$$\n",
    "\n",
    "Selecting the maximum and minimum values of $u$ and averaging over all other inputs $v$ in the data gives you a new \"hypothetical\" dataset and corresponds to counting all pairs of transitions of $(u^\\text{lo})$ to $(u^\\text{hi})$, i.e., differences in $u$ with $v$ held constant. "
   ]
  },
  {
   "attachments": {},
   "cell_type": "markdown",
   "metadata": {},
   "source": [
    "### Implementation\n",
    "\n",
    "To demonstrase how to compute and plot _average predictive comparisons_ with `comparisons` and `plot_comparions`, we model and predict how many fish are caught by visitors to a state park. Many visitors catch zero fish, either because they did not fish at all, or because they were unlucky. We would like to explicitly model this bimodal behavior (zero versus non-zero) using a Zero Inflated Poisson model, and to compare how different inputs of interest $u$ and other covariate values $v$ are associated with the number of fish caught."
   ]
  },
  {
   "cell_type": "code",
   "execution_count": 15,
   "metadata": {},
   "outputs": [],
   "source": [
    "#| code-fold: true\n",
    "import pandas as pd\n",
    "\n",
    "import bambi as bmb\n",
    "from bambi.plots import plot_comparison, comparisons"
   ]
  },
  {
   "cell_type": "code",
   "execution_count": 4,
   "metadata": {},
   "outputs": [],
   "source": [
    "fish_data = pd.read_stata(\"http://www.stata-press.com/data/r11/fish.dta\")\n",
    "cols = [\"count\", \"livebait\", \"camper\", \"persons\", \"child\"]\n",
    "fish_data = fish_data[cols]\n",
    "fish_data[\"livebait\"] = fish_data[\"livebait\"].astype(\"category\")\n",
    "fish_data[\"camper\"] = fish_data[\"camper\"].astype(\"category\")"
   ]
  },
  {
   "cell_type": "code",
   "execution_count": 6,
   "metadata": {},
   "outputs": [],
   "source": [
    "likelihood = bmb.Likelihood(\"ZeroInflatedPoisson\", params=[\"mu\", \"psi\"], parent=\"mu\")\n",
    "links = {\"mu\": \"log\", \"psi\": \"logit\"}\n",
    "zip_family = bmb.Family(\"zip\", likelihood, links)\n",
    "priors = {\"psi\": bmb.Prior(\"Beta\", alpha=3, beta=3)}"
   ]
  },
  {
   "cell_type": "code",
   "execution_count": 7,
   "metadata": {},
   "outputs": [
    {
     "name": "stderr",
     "output_type": "stream",
     "text": [
      "Auto-assigning NUTS sampler...\n",
      "Initializing NUTS using jitter+adapt_diag...\n",
      "Multiprocess sampling (4 chains in 4 jobs)\n",
      "NUTS: [count_psi, Intercept, livebait, camper, persons, child]\n"
     ]
    },
    {
     "data": {
      "text/html": [
       "\n",
       "<style>\n",
       "    /* Turns off some styling */\n",
       "    progress {\n",
       "        /* gets rid of default border in Firefox and Opera. */\n",
       "        border: none;\n",
       "        /* Needs to be in here for Safari polyfill so background images work as expected. */\n",
       "        background-size: auto;\n",
       "    }\n",
       "    progress:not([value]), progress:not([value])::-webkit-progress-bar {\n",
       "        background: repeating-linear-gradient(45deg, #7e7e7e, #7e7e7e 10px, #5c5c5c 10px, #5c5c5c 20px);\n",
       "    }\n",
       "    .progress-bar-interrupted, .progress-bar-interrupted::-webkit-progress-bar {\n",
       "        background: #F44336;\n",
       "    }\n",
       "</style>\n"
      ],
      "text/plain": [
       "<IPython.core.display.HTML object>"
      ]
     },
     "metadata": {},
     "output_type": "display_data"
    },
    {
     "data": {
      "text/html": [
       "\n",
       "    <div>\n",
       "      <progress value='8000' class='' max='8000' style='width:300px; height:20px; vertical-align: middle;'></progress>\n",
       "      100.00% [8000/8000 00:03&lt;00:00 Sampling 4 chains, 0 divergences]\n",
       "    </div>\n",
       "    "
      ],
      "text/plain": [
       "<IPython.core.display.HTML object>"
      ]
     },
     "metadata": {},
     "output_type": "display_data"
    },
    {
     "name": "stderr",
     "output_type": "stream",
     "text": [
      "Sampling 4 chains for 1_000 tune and 1_000 draw iterations (4_000 + 4_000 draws total) took 4 seconds.\n"
     ]
    }
   ],
   "source": [
    "fish_model = bmb.Model(\n",
    "    \"count ~ livebait + camper + persons + child\", \n",
    "    fish_data, \n",
    "    priors=priors,\n",
    "    family=zip_family\n",
    ")\n",
    "\n",
    "fish_idata = fish_model.fit(\n",
    "    draws=1000, \n",
    "    target_accept=0.95, \n",
    "    random_seed=1234, \n",
    "    chains=4\n",
    ")"
   ]
  },
  {
   "attachments": {},
   "cell_type": "markdown",
   "metadata": {},
   "source": [
    "In both `plot_comparisons` and `comparisons`, $u$ and $v$ are represented by `contrast` and `conditional`, respectively. Lets say we are interested in comparing the number of fish caught for `livebait` = [0, 1] conditional on the number of people."
   ]
  },
  {
   "cell_type": "code",
   "execution_count": 10,
   "metadata": {},
   "outputs": [
    {
     "data": {
      "image/png": "[encoded data removed]",
      "text/plain": [
       "<Figure size 700x300 with 1 Axes>"
      ]
     },
     "metadata": {},
     "output_type": "display_data"
    }
   ],
   "source": [
    "fig, ax = plot_comparison(\n",
    "    model=fish_model,\n",
    "    idata=fish_idata,\n",
    "    contrast=\"livebait\",\n",
    "    conditional=\"persons\",\n",
    ") \n",
    "fig.set_size_inches(7, 3)"
   ]
  },
  {
   "attachments": {},
   "cell_type": "markdown",
   "metadata": {},
   "source": [
    "By default, `contrast` compares $u^\\text{hi}$ to $u^\\text{lo}$. Thus, in this example `livebait` = 1 and `livebait` = 0. The plot shows us that comparing a group of two people who used live bait and no live bait, the expected difference in the number of fish caught is about $2$. As the number of people in the group increases, the expected difference also increases. \n",
    "\n",
    "We can call `comparisons` directly to view a summary dataframe that includes the term $u$ and its contrast, the specified `conditional` covariate, and the expected difference in the outcome with the uncertainty interval (in this case the 94% highest density interval). We see that `camper` and `child` are also in the summary dataframe. This is because for unspecified covariates, `comparisons` and `plot_comparisons` computes a default value. Thus, $v$ = `persons`, `camper`, `child`."
   ]
  },
  {
   "cell_type": "code",
   "execution_count": 17,
   "metadata": {},
   "outputs": [
    {
     "data": {
      "text/html": [
       "<div>\n",
       "<style scoped>\n",
       "    .dataframe tbody tr th:only-of-type {\n",
       "        vertical-align: middle;\n",
       "    }\n",
       "\n",
       "    .dataframe tbody tr th {\n",
       "        vertical-align: top;\n",
       "    }\n",
       "\n",
       "    .dataframe thead th {\n",
       "        text-align: right;\n",
       "    }\n",
       "</style>\n",
       "<table border=\"1\" class=\"dataframe\">\n",
       "  <thead>\n",
       "    <tr style=\"text-align: right;\">\n",
       "      <th></th>\n",
       "      <th>term</th>\n",
       "      <th>contrast</th>\n",
       "      <th>persons</th>\n",
       "      <th>camper</th>\n",
       "      <th>child</th>\n",
       "      <th>estimate</th>\n",
       "      <th>hdi_0.03%</th>\n",
       "      <th>hdi_0.97%</th>\n",
       "    </tr>\n",
       "  </thead>\n",
       "  <tbody>\n",
       "    <tr>\n",
       "      <th>0</th>\n",
       "      <td>livebait</td>\n",
       "      <td>(0.0, 1.0)</td>\n",
       "      <td>1.000000</td>\n",
       "      <td>1.0</td>\n",
       "      <td>0.684</td>\n",
       "      <td>0.656590</td>\n",
       "      <td>0.483500</td>\n",
       "      <td>0.833816</td>\n",
       "    </tr>\n",
       "    <tr>\n",
       "      <th>1</th>\n",
       "      <td>livebait</td>\n",
       "      <td>(0.0, 1.0)</td>\n",
       "      <td>1.061224</td>\n",
       "      <td>1.0</td>\n",
       "      <td>0.684</td>\n",
       "      <td>0.692487</td>\n",
       "      <td>0.509677</td>\n",
       "      <td>0.873858</td>\n",
       "    </tr>\n",
       "    <tr>\n",
       "      <th>2</th>\n",
       "      <td>livebait</td>\n",
       "      <td>(0.0, 1.0)</td>\n",
       "      <td>1.122449</td>\n",
       "      <td>1.0</td>\n",
       "      <td>0.684</td>\n",
       "      <td>0.730352</td>\n",
       "      <td>0.545617</td>\n",
       "      <td>0.924122</td>\n",
       "    </tr>\n",
       "    <tr>\n",
       "      <th>3</th>\n",
       "      <td>livebait</td>\n",
       "      <td>(0.0, 1.0)</td>\n",
       "      <td>1.183674</td>\n",
       "      <td>1.0</td>\n",
       "      <td>0.684</td>\n",
       "      <td>0.770294</td>\n",
       "      <td>0.578521</td>\n",
       "      <td>0.971953</td>\n",
       "    </tr>\n",
       "    <tr>\n",
       "      <th>4</th>\n",
       "      <td>livebait</td>\n",
       "      <td>(0.0, 1.0)</td>\n",
       "      <td>1.244898</td>\n",
       "      <td>1.0</td>\n",
       "      <td>0.684</td>\n",
       "      <td>0.812425</td>\n",
       "      <td>0.616945</td>\n",
       "      <td>1.024377</td>\n",
       "    </tr>\n",
       "    <tr>\n",
       "      <th>5</th>\n",
       "      <td>livebait</td>\n",
       "      <td>(0.0, 1.0)</td>\n",
       "      <td>1.306122</td>\n",
       "      <td>1.0</td>\n",
       "      <td>0.684</td>\n",
       "      <td>0.856867</td>\n",
       "      <td>0.647213</td>\n",
       "      <td>1.069846</td>\n",
       "    </tr>\n",
       "    <tr>\n",
       "      <th>6</th>\n",
       "      <td>livebait</td>\n",
       "      <td>(0.0, 1.0)</td>\n",
       "      <td>1.367347</td>\n",
       "      <td>1.0</td>\n",
       "      <td>0.684</td>\n",
       "      <td>0.903747</td>\n",
       "      <td>0.687662</td>\n",
       "      <td>1.127065</td>\n",
       "    </tr>\n",
       "    <tr>\n",
       "      <th>7</th>\n",
       "      <td>livebait</td>\n",
       "      <td>(0.0, 1.0)</td>\n",
       "      <td>1.428571</td>\n",
       "      <td>1.0</td>\n",
       "      <td>0.684</td>\n",
       "      <td>0.953198</td>\n",
       "      <td>0.730820</td>\n",
       "      <td>1.186828</td>\n",
       "    </tr>\n",
       "    <tr>\n",
       "      <th>8</th>\n",
       "      <td>livebait</td>\n",
       "      <td>(0.0, 1.0)</td>\n",
       "      <td>1.489796</td>\n",
       "      <td>1.0</td>\n",
       "      <td>0.684</td>\n",
       "      <td>1.005363</td>\n",
       "      <td>0.770465</td>\n",
       "      <td>1.244912</td>\n",
       "    </tr>\n",
       "    <tr>\n",
       "      <th>9</th>\n",
       "      <td>livebait</td>\n",
       "      <td>(0.0, 1.0)</td>\n",
       "      <td>1.551020</td>\n",
       "      <td>1.0</td>\n",
       "      <td>0.684</td>\n",
       "      <td>1.060390</td>\n",
       "      <td>0.813576</td>\n",
       "      <td>1.306117</td>\n",
       "    </tr>\n",
       "  </tbody>\n",
       "</table>\n",
       "</div>"
      ],
      "text/plain": [
       "       term    contrast   persons camper  child  estimate  hdi_0.03%   \n",
       "0  livebait  (0.0, 1.0)  1.000000    1.0  0.684  0.656590   0.483500  \\\n",
       "1  livebait  (0.0, 1.0)  1.061224    1.0  0.684  0.692487   0.509677   \n",
       "2  livebait  (0.0, 1.0)  1.122449    1.0  0.684  0.730352   0.545617   \n",
       "3  livebait  (0.0, 1.0)  1.183674    1.0  0.684  0.770294   0.578521   \n",
       "4  livebait  (0.0, 1.0)  1.244898    1.0  0.684  0.812425   0.616945   \n",
       "5  livebait  (0.0, 1.0)  1.306122    1.0  0.684  0.856867   0.647213   \n",
       "6  livebait  (0.0, 1.0)  1.367347    1.0  0.684  0.903747   0.687662   \n",
       "7  livebait  (0.0, 1.0)  1.428571    1.0  0.684  0.953198   0.730820   \n",
       "8  livebait  (0.0, 1.0)  1.489796    1.0  0.684  1.005363   0.770465   \n",
       "9  livebait  (0.0, 1.0)  1.551020    1.0  0.684  1.060390   0.813576   \n",
       "\n",
       "   hdi_0.97%  \n",
       "0   0.833816  \n",
       "1   0.873858  \n",
       "2   0.924122  \n",
       "3   0.971953  \n",
       "4   1.024377  \n",
       "5   1.069846  \n",
       "6   1.127065  \n",
       "7   1.186828  \n",
       "8   1.244912  \n",
       "9   1.306117  "
      ]
     },
     "execution_count": 17,
     "metadata": {},
     "output_type": "execute_result"
    }
   ],
   "source": [
    "comparisons_df = comparisons(\n",
    "    model=fish_model,\n",
    "    idata=fish_idata,\n",
    "    contrast=\"livebait\",\n",
    "    conditional=\"persons\",\n",
    ")\n",
    "comparisons_df.head(10)"
   ]
  },
  {
   "attachments": {},
   "cell_type": "markdown",
   "metadata": {},
   "source": [
    "Furthermore, `conditional` is not limited to one covariate. We can pass a list of covariates to condition on. For example, we can also include `camper`."
   ]
  },
  {
   "cell_type": "code",
   "execution_count": 11,
   "metadata": {},
   "outputs": [
    {
     "data": {
      "image/png": "[encoded data removed]",
      "text/plain": [
       "<Figure size 700x300 with 1 Axes>"
      ]
     },
     "metadata": {},
     "output_type": "display_data"
    }
   ],
   "source": [
    "fig, ax = plot_comparison(\n",
    "    model=fish_model,\n",
    "    idata=fish_idata,\n",
    "    contrast=\"livebait\",\n",
    "    conditional=[\"persons\", \"camper\"],\n",
    ") \n",
    "fig.set_size_inches(7, 3)"
   ]
  }
 ],
 "metadata": {
  "kernelspec": {
   "display_name": "bambinos",
   "language": "python",
   "name": "python3"
  },
  "language_info": {
   "codemirror_mode": {
    "name": "ipython",
    "version": 3
   },
   "file_extension": ".py",
   "mimetype": "text/x-python",
   "name": "python",
   "nbconvert_exporter": "python",
   "pygments_lexer": "ipython3",
   "version": "3.11.0"
  },
  "orig_nbformat": 4
 },
 "nbformat": 4,
 "nbformat_minor": 2
}
