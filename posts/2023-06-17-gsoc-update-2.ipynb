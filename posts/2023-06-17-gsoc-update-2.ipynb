{
 "cells": [
  {
   "cell_type": "raw",
   "metadata": {},
   "source": [
    "---\n",
    "title: Google Summer of Code - Update 2\n",
    "author: Gabriel Stechschulte\n",
    "categories:\n",
    "- open-source\n",
    "- python\n",
    "- bayesian-statistics\n",
    "date: 2023-06-17\n",
    "---"
   ]
  },
  {
   "attachments": {},
   "cell_type": "markdown",
   "metadata": {},
   "source": [
    "Update 2 outline:\n",
    "* why comparisons?\n",
    "* comparisons (plotting, and multi-level contrasts)\n",
    "* xarray\n",
    "* pytest"
   ]
  }
 ],
 "metadata": {
  "kernelspec": {
   "display_name": "bambinos",
   "language": "python",
   "name": "python3"
  },
  "language_info": {
   "codemirror_mode": {
    "name": "ipython",
    "version": 3
   },
   "file_extension": ".py",
   "mimetype": "text/x-python",
   "name": "python",
   "nbconvert_exporter": "python",
   "pygments_lexer": "ipython3",
   "version": "3.11.0"
  },
  "orig_nbformat": 4
 },
 "nbformat": 4,
 "nbformat_minor": 2
}
