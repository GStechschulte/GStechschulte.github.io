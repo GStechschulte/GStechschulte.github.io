{
 "cells": [
  {
   "cell_type": "raw",
   "metadata": {
    "vscode": {
     "languageId": "raw"
    }
   },
   "source": [
    "---\n",
    "title: Hierarchical Regression With Missing Data\n",
    "author: Gabriel Stechschulte\n",
    "categories:\n",
    "- probabilistic-programming\n",
    "- bayesian-statistics\n",
    "date: 2024-09-10\n",
    "jupyter: python3\n",
    "image: dag-hierarchical-missing-data.png\n",
    "---"
   ]
  },
  {
   "cell_type": "markdown",
   "metadata": {},
   "source": [
    "Hierarchical regression, also known as multilevel modeling, is a powerful statistical technique that allows us to analyze data with a nested structure. This approach is particularly useful when dealing with data that has natural groupings, such as students within schools, patients within hospitals, or in our case, product configurations within manufacturing processes. One of the key advantages of hierarchical regression is its ability to effectively handle missing data in groups, making it an invaluable tool for real-world applications where data incompleteness is often the norm rather than the exception.\n",
    "\n",
    "## Benefits in Real-World Use Cases\n",
    "\n",
    "In many real-world scenarios, hierarchical regression offers several benefits:\n",
    "\n",
    "1. **Handling Unbalanced Data**. It can effectively deal with situations where some groups have more observations than others.\n",
    "\n",
    "2. **Partial Pooling**. It strikes a balance between completely pooled and unpooled analyses, allowing information to be shared across groups while still accounting for group-specific variations.\n",
    "\n",
    "3. **Missing Data**. It can handle missing data at various levels of the hierarchy without requiring complete case analysis or imputation.\n",
    "\n",
    "4. **Improved Estimation**. By borrowing strength across groups, it can provide more accurate and stable estimates, especially for groups with limited data.\n",
    "\n",
    "5. **Flexibility**. It allows for the inclusion of both group-level and individual-level predictors, enabling a more comprehensive analysis."
   ]
  },
  {
   "cell_type": "markdown",
   "metadata": {},
   "source": [
    "## Simulated Example: Manufacturing Process Analysis\n",
    "\n",
    "To illustrate the power of hierarchical regression in handling missing data, let's consider a simulated example from a manufacturing context. We'll analyze how different machine process parameters affect production speed across two product groups.\n",
    "\n",
    "In this simulation, we generate data for two product groups with different dependencies on machine process parameters:\n",
    "\n",
    "- Product Group 1 depends on feed speed and pull acceleration.\n",
    "- Product Group 2 depends on feed speed, pull acceleration, and cutting wait time.\n",
    "\n",
    "Crucially, the cutting wait time for Product Group 1 is set to NaN, simulating a scenario where this parameter is not applicable or not measured for this group."
   ]
  },
  {
   "cell_type": "code",
   "execution_count": 219,
   "metadata": {},
   "outputs": [],
   "source": [
    "import matplotlib.pyplot as plt\n",
    "import numpy as np\n",
    "import numpyro\n",
    "import pandas as pd\n",
    "import seaborn as sns\n",
    "import jax.numpy as jnp\n",
    "import numpyro.distributions as dist\n",
    "\n",
    "from jax import random\n",
    "from numpyro.infer import Predictive"
   ]
  },
  {
   "cell_type": "code",
   "execution_count": 54,
   "metadata": {},
   "outputs": [],
   "source": [
    "n_samples = 500\n",
    "\n",
    "# Generate machine process parameters for both groups\n",
    "feed_speed = np.random.uniform(1, 10, n_samples)\n",
    "pull_acceleration = np.random.uniform(0.5, 5, n_samples)\n",
    "cutting_wait_time = np.random.uniform(0.1, 2, n_samples)\n",
    "\n",
    "# Create product groups\n",
    "product_group = np.array(['Product_Group_1'] * (n_samples // 2) + ['Product_Group_2'] * (n_samples // 2))\n",
    "\n",
    "# Calculate production speed\n",
    "production_speed = np.zeros(n_samples)\n",
    "\n",
    "# Product Group 1: depends on feed speed and pull acceleration (Cutting Wait Time is NaN)\n",
    "mask_pg1 = product_group == 'Product_Group_1'\n",
    "\n",
    "# Increased coefficients for Product Group 1 to ensure higher production speed\n",
    "production_speed[mask_pg1] = (feed_speed[mask_pg1] * 2.5 + \n",
    "                              pull_acceleration[mask_pg1] * 3 + \n",
    "                              np.random.normal(0, 0.5, sum(mask_pg1)))\n",
    "\n",
    "# Product Group 2: depends on all three parameters\n",
    "mask_pg2 = product_group == 'Product_Group_2'\n",
    "production_speed[mask_pg2] = (feed_speed[mask_pg2] * 1 + \n",
    "                              pull_acceleration[mask_pg2] * 0.5 + \n",
    "                              cutting_wait_time[mask_pg2] * 3 + \n",
    "                              np.random.normal(0, 0.5, sum(mask_pg2)))\n",
    "\n",
    "# Create DataFrame with NaN for Cutting Wait Time in Product Group 1\n",
    "simulated_dataset = pd.DataFrame({\n",
    "    'Product_Group': product_group,\n",
    "    'Feed_Speed': feed_speed,\n",
    "    'Pull_Acceleration': pull_acceleration,\n",
    "    'Cutting_Wait_Time': [np.nan if x == 'Product_Group_1' else cutting_wait_time[i] for i,x in enumerate(product_group)],\n",
    "    'Production_Speed': production_speed\n",
    "})"
   ]
  },
  {
   "cell_type": "code",
   "execution_count": 256,
   "metadata": {},
   "outputs": [
    {
     "data": {
      "image/png": "[encoded data removed]",
      "text/plain": [
       "<Figure size 700x300 with 1 Axes>"
      ]
     },
     "metadata": {},
     "output_type": "display_data"
    }
   ],
   "source": [
    "plt.figure(figsize=(7, 3))\n",
    "sns.histplot(\n",
    "    data=simulated_dataset, \n",
    "    x=\"Production_Speed\", \n",
    "    hue=\"Product_Group\",\n",
    "    binwidth=1\n",
    ")\n",
    "plt.xlabel(\"Production Speed\")\n",
    "plt.title(\"Simulated Data Distribution\");"
   ]
  },
  {
   "cell_type": "code",
   "execution_count": 254,
   "metadata": {},
   "outputs": [],
   "source": [
    "# sns.pairplot(simulated_dataset.iloc[:, 0:], hue=\"Product_Group\", corner=True);"
   ]
  },
  {
   "cell_type": "code",
   "execution_count": 57,
   "metadata": {},
   "outputs": [],
   "source": [
    "simulated_dataset[\"Product_Group\"] = (simulated_dataset[\"Product_Group\"]\n",
    "                                      .map({\n",
    "                                          \"Product_Group_1\": 0, \n",
    "                                          \"Product_Group_2\": 1\n",
    "                                          })\n",
    "                                    )"
   ]
  },
  {
   "cell_type": "markdown",
   "metadata": {},
   "source": [
    "## Parameter Masking for Missing Data\n",
    "\n",
    "To handle the missing data in our hierarchical model, we employ a technique called parameter masking. This approach allows us to effectively \"turn off\" certain parameters for specific groups where they are not applicable. Here's how it works in our model:\n",
    "\n",
    "Key aspects of this approach:\n",
    "\n",
    "1. We use an `indicators` tensor to specify which parameters are relevant for each product group.\n",
    "2. The input data `X` is masked to replace NaNs with zeros, and then multiplied by the indicators.\n",
    "3. The weights `w` are also masked using the indicators, ensuring that irrelevant parameters don't contribute to the predictions.\n",
    "\n",
    "This approach allows the model to learn parameters even when data is missing for some groups, by effectively ignoring those parameters in the relevant calculations."
   ]
  },
  {
   "cell_type": "code",
   "execution_count": 72,
   "metadata": {},
   "outputs": [],
   "source": [
    "parameter_mask = jnp.array([\n",
    "    [1, 1, 0],\n",
    "    [1, 1, 1]\n",
    "])\n",
    "config_idx = jnp.array(simulated_dataset[\"Product_Group\"].values)\n",
    "X = jnp.array(simulated_dataset.iloc[:, 1:4].values)\n",
    "y = jnp.array(simulated_dataset[\"Production_Speed\"].values)"
   ]
  },
  {
   "cell_type": "code",
   "execution_count": 257,
   "metadata": {},
   "outputs": [],
   "source": [
    "def model(indicators, config_idx, X, y=None):\n",
    "    n_configs, n_params = indicators.shape\n",
    "\n",
    "    # Create a masked version of X where NaNs are treated as zeros based on the indicators\n",
    "    X_masked = jnp.where(jnp.isnan(X), 0.0, X) * indicators[config_idx]\n",
    "\n",
    "    # Group-specific effects\n",
    "    with numpyro.plate(\"config_i\", n_configs):\n",
    "        alpha = numpyro.sample(\"alpha\", dist.Normal(0., 5.))\n",
    "        with numpyro.plate(\"param_i\", n_params):\n",
    "            w = numpyro.sample(\"w\", dist.Normal(0., 5.))\n",
    "\n",
    "    # Compute the weighted sum of features using indicators to zero-out unused parameters\n",
    "    w_masked = jnp.multiply(w.T, indicators)\n",
    "    \n",
    "    eq = alpha[config_idx] + jnp.sum(jnp.multiply(X_masked, w_masked[config_idx]), axis=-1)\n",
    "    mu = numpyro.deterministic(\"mu\", eq)\n",
    "    scale = numpyro.sample(\"scale\", dist.HalfNormal(5.))\n",
    "\n",
    "    with numpyro.plate(\"data\", X.shape[0]):\n",
    "        numpyro.sample(\"obs\", dist.Normal(mu, scale), obs=y)"
   ]
  },
  {
   "cell_type": "code",
   "execution_count": 258,
   "metadata": {},
   "outputs": [
    {
     "data": {
      "image/svg+xml": [
       "<?xml version=\"1.0\" encoding=\"UTF-8\" standalone=\"no\"?>\n",
       "<!DOCTYPE svg PUBLIC \"-//W3C//DTD SVG 1.1//EN\"\n",
       " \"http://www.w3.org/Graphics/SVG/1.1/DTD/svg11.dtd\">\n",
       "<!-- Generated by graphviz version 12.1.0 (20240811.2233)\n",
       " -->\n",
       "<!-- Pages: 1 -->\n",
       "<svg width=\"208pt\" height=\"290pt\"\n",
       " viewBox=\"0.00 0.00 208.34 289.50\" xmlns=\"http://www.w3.org/2000/svg\" xmlns:xlink=\"http://www.w3.org/1999/xlink\">\n",
       "<g id=\"graph0\" class=\"graph\" transform=\"scale(1 1) rotate(0) translate(4 285.5)\">\n",
       "<polygon fill=\"white\" stroke=\"none\" points=\"-4,4 -4,-285.5 204.34,-285.5 204.34,4 -4,4\"/>\n",
       "<g id=\"clust1\" class=\"cluster\">\n",
       "<title>cluster_config_i</title>\n",
       "<polygon fill=\"none\" stroke=\"black\" points=\"34.34,-156.5 34.34,-273.5 192.34,-273.5 192.34,-156.5 34.34,-156.5\"/>\n",
       "<text text-anchor=\"middle\" x=\"161.84\" y=\"-163.7\" font-family=\"Times,serif\" font-size=\"14.00\">config_i</text>\n",
       "</g>\n",
       "<g id=\"clust2\" class=\"cluster\">\n",
       "<title>cluster_param_i</title>\n",
       "<polygon fill=\"none\" stroke=\"black\" points=\"42.34,-189 42.34,-265.5 112.34,-265.5 112.34,-189 42.34,-189\"/>\n",
       "<text text-anchor=\"middle\" x=\"81.84\" y=\"-196.2\" font-family=\"Times,serif\" font-size=\"14.00\">param_i</text>\n",
       "</g>\n",
       "<g id=\"clust3\" class=\"cluster\">\n",
       "<title>cluster_data</title>\n",
       "<polygon fill=\"none\" stroke=\"black\" points=\"21.34,-8 21.34,-84.5 91.34,-84.5 91.34,-8 21.34,-8\"/>\n",
       "<text text-anchor=\"middle\" x=\"72.09\" y=\"-15.2\" font-family=\"Times,serif\" font-size=\"14.00\">data</text>\n",
       "</g>\n",
       "<!-- mu -->\n",
       "<g id=\"node1\" class=\"node\">\n",
       "<title>mu</title>\n",
       "<ellipse fill=\"white\" stroke=\"black\" stroke-dasharray=\"5,2\" cx=\"103.34\" cy=\"-130.5\" rx=\"27\" ry=\"18\"/>\n",
       "<text text-anchor=\"middle\" x=\"103.34\" y=\"-125.45\" font-family=\"Times,serif\" font-size=\"14.00\">mu</text>\n",
       "</g>\n",
       "<!-- obs -->\n",
       "<g id=\"node5\" class=\"node\">\n",
       "<title>obs</title>\n",
       "<ellipse fill=\"grey\" stroke=\"black\" cx=\"56.34\" cy=\"-58.5\" rx=\"27\" ry=\"18\"/>\n",
       "<text text-anchor=\"middle\" x=\"56.34\" y=\"-53.45\" font-family=\"Times,serif\" font-size=\"14.00\">obs</text>\n",
       "</g>\n",
       "<!-- mu&#45;&gt;obs -->\n",
       "<g id=\"edge3\" class=\"edge\">\n",
       "<title>mu&#45;&gt;obs</title>\n",
       "<path fill=\"none\" stroke=\"black\" d=\"M92.68,-113.62C86.97,-105.11 79.8,-94.44 73.35,-84.82\"/>\n",
       "<polygon fill=\"black\" stroke=\"black\" points=\"76.29,-82.93 67.81,-76.58 70.48,-86.83 76.29,-82.93\"/>\n",
       "</g>\n",
       "<!-- scale -->\n",
       "<g id=\"node2\" class=\"node\">\n",
       "<title>scale</title>\n",
       "<ellipse fill=\"white\" stroke=\"black\" cx=\"29.34\" cy=\"-130.5\" rx=\"29.34\" ry=\"18\"/>\n",
       "<text text-anchor=\"middle\" x=\"29.34\" y=\"-125.45\" font-family=\"Times,serif\" font-size=\"14.00\">scale</text>\n",
       "</g>\n",
       "<!-- scale&#45;&gt;obs -->\n",
       "<g id=\"edge4\" class=\"edge\">\n",
       "<title>scale&#45;&gt;obs</title>\n",
       "<path fill=\"none\" stroke=\"black\" d=\"M35.88,-112.55C38.86,-104.82 42.47,-95.46 45.83,-86.77\"/>\n",
       "<polygon fill=\"black\" stroke=\"black\" points=\"48.99,-88.29 49.32,-77.7 42.46,-85.77 48.99,-88.29\"/>\n",
       "</g>\n",
       "<!-- alpha -->\n",
       "<g id=\"node3\" class=\"node\">\n",
       "<title>alpha</title>\n",
       "<ellipse fill=\"white\" stroke=\"black\" cx=\"153.34\" cy=\"-239.5\" rx=\"30.88\" ry=\"18\"/>\n",
       "<text text-anchor=\"middle\" x=\"153.34\" y=\"-234.45\" font-family=\"Times,serif\" font-size=\"14.00\">alpha</text>\n",
       "</g>\n",
       "<!-- alpha&#45;&gt;mu -->\n",
       "<g id=\"edge1\" class=\"edge\">\n",
       "<title>alpha&#45;&gt;mu</title>\n",
       "<path fill=\"none\" stroke=\"black\" d=\"M146.1,-221.73C139.65,-206.95 129.77,-184.66 117.03,-158.19\"/>\n",
       "<polygon fill=\"black\" stroke=\"black\" points=\"120.18,-156.67 112.67,-149.2 113.88,-159.73 120.18,-156.67\"/>\n",
       "</g>\n",
       "<!-- w -->\n",
       "<g id=\"node4\" class=\"node\">\n",
       "<title>w</title>\n",
       "<ellipse fill=\"white\" stroke=\"black\" cx=\"77.34\" cy=\"-239.5\" rx=\"27\" ry=\"18\"/>\n",
       "<text text-anchor=\"middle\" x=\"77.34\" y=\"-234.45\" font-family=\"Times,serif\" font-size=\"14.00\">w</text>\n",
       "</g>\n",
       "<!-- w&#45;&gt;mu -->\n",
       "<g id=\"edge2\" class=\"edge\">\n",
       "<title>w&#45;&gt;mu</title>\n",
       "<path fill=\"none\" stroke=\"black\" d=\"M81.52,-221.31C85.56,-204.7 91.74,-179.24 96.5,-159.66\"/>\n",
       "<polygon fill=\"black\" stroke=\"black\" points=\"99.86,-160.66 98.82,-150.12 93.06,-159.01 99.86,-160.66\"/>\n",
       "</g>\n",
       "</g>\n",
       "</svg>\n"
      ],
      "text/plain": [
       "<graphviz.graphs.Digraph at 0x36ab792e0>"
      ]
     },
     "execution_count": 258,
     "metadata": {},
     "output_type": "execute_result"
    }
   ],
   "source": [
    "numpyro.render_model(\n",
    "    model, \n",
    "    model_args=(\n",
    "        parameter_mask,\n",
    "        config_idx,\n",
    "        X,\n",
    "        y\n",
    "    ),\n",
    "    render_params=True\n",
    ")"
   ]
  },
  {
   "cell_type": "code",
   "execution_count": 243,
   "metadata": {},
   "outputs": [
    {
     "name": "stderr",
     "output_type": "stream",
     "text": [
      "sample: 100%|██████████| 500/500 [00:03<00:00, 148.27it/s]\n"
     ]
    }
   ],
   "source": [
    "rng_key = random.PRNGKey(seed=42)\n",
    "rng_key, rng_subkey = random.split(key=rng_key)\n",
    "\n",
    "kernel = numpyro.infer.NUTS(model)\n",
    "\n",
    "mcmc = numpyro.infer.MCMC(\n",
    "    kernel, \n",
    "    num_warmup=200, \n",
    "    num_samples=300, \n",
    "    num_chains=4, \n",
    "    chain_method=\"vectorized\"\n",
    ")\n",
    "\n",
    "mcmc.run(\n",
    "    rng_subkey,\n",
    "    parameter_mask,\n",
    "    config_idx,\n",
    "    X,\n",
    "    y\n",
    ")"
   ]
  },
  {
   "cell_type": "markdown",
   "metadata": {},
   "source": [
    "## Model Inference and Results\n",
    "\n",
    "After running MCMC inference on our model, we can examine the parameter estimates and make predictions."
   ]
  },
  {
   "cell_type": "code",
   "execution_count": 244,
   "metadata": {},
   "outputs": [
    {
     "name": "stdout",
     "output_type": "stream",
     "text": [
      "\n",
      "                mean       std    median      5.0%     95.0%     n_eff     r_hat\n",
      "  alpha[0]     -0.03      0.11     -0.04     -0.20      0.15    598.37      1.00\n",
      "  alpha[1]      0.05      0.12      0.05     -0.18      0.22    797.79      1.01\n",
      "     scale      0.52      0.02      0.52      0.50      0.55   1058.94      1.00\n",
      "    w[0,0]      2.51      0.01      2.51      2.49      2.53    837.47      1.00\n",
      "    w[0,1]      1.00      0.01      1.00      0.98      1.02   1350.56      1.00\n",
      "    w[1,0]      2.98      0.02      2.98      2.94      3.02    740.98      1.00\n",
      "    w[1,1]      0.49      0.03      0.49      0.45      0.53   1002.80      1.00\n",
      "    w[2,0]      0.11      5.30     -0.03     -7.42      9.98    893.63      1.00\n",
      "    w[2,1]      3.05      0.07      3.05      2.93      3.15    891.06      1.01\n",
      "\n",
      "Number of divergences: 0\n"
     ]
    }
   ],
   "source": [
    "# Parameter estimates for w[2, 0] are actually 0.0 once data is passed \n",
    "# through the program\n",
    "mcmc.print_summary()"
   ]
  },
  {
   "cell_type": "markdown",
   "metadata": {},
   "source": [
    "This summary shows us the estimated parameters, including group-specific intercepts (alpha) and weights for each parameter. Importantly, we'll see that the weight for the third parameter (cutting wait time) in Product Group 1 is effectively zero, as expected. We can now use the model to make predictions."
   ]
  },
  {
   "cell_type": "code",
   "execution_count": 245,
   "metadata": {},
   "outputs": [],
   "source": [
    "rng_key, rng_subkey = random.split(key=rng_key)\n",
    "\n",
    "samples = mcmc.get_samples()\n",
    "\n",
    "predictive = Predictive(model, posterior_samples=samples)\n",
    "pps = predictive(\n",
    "    rng_subkey,\n",
    "    parameter_mask,\n",
    "    config_idx,\n",
    "    X,\n",
    "    None\n",
    ")"
   ]
  },
  {
   "cell_type": "code",
   "execution_count": 246,
   "metadata": {},
   "outputs": [
    {
     "data": {
      "image/png": "[encoded data removed]",
      "text/plain": [
       "<Figure size 700x300 with 1 Axes>"
      ]
     },
     "metadata": {},
     "output_type": "display_data"
    }
   ],
   "source": [
    "simulated_dataset[\"preds\"] = pps[\"obs\"].mean(axis=0)\n",
    "\n",
    "plt.figure(figsize=(7, 3))\n",
    "sns.histplot(data=simulated_dataset, x=\"Production_Speed\", binwidth=1, label=\"obs\")\n",
    "sns.histplot(data=simulated_dataset, x=\"preds\", binwidth=1, label=\"pps\")\n",
    "plt.xlabel(\"Production Speed\")\n",
    "plt.title(\"Posterior Predictive Distribution\");"
   ]
  },
  {
   "cell_type": "markdown",
   "metadata": {},
   "source": [
    "This plot compares the observed production speeds with the model's predictions, allowing us to assess how well our model captures the underlying patterns in the data."
   ]
  },
  {
   "cell_type": "code",
   "execution_count": 250,
   "metadata": {},
   "outputs": [
    {
     "data": {
      "text/plain": [
       "Array([13.455311, 10.143251], dtype=float32)"
      ]
     },
     "execution_count": 250,
     "metadata": {},
     "output_type": "execute_result"
    }
   ],
   "source": [
    "config_idx_new = jnp.array([0, 1], dtype=jnp.int32)\n",
    "\n",
    "X_test = jnp.array([\n",
    "    [3.0, 2.0, 0.0],\n",
    "    [3.0, 2.0, 2.0]\n",
    "])\n",
    "\n",
    "rng_key, rng_subkey = random.split(key=rng_key)\n",
    "pps_new = predictive(\n",
    "    rng_subkey,\n",
    "    parameter_mask,\n",
    "    config_idx_new,\n",
    "    X_test,\n",
    "    None\n",
    ")\n",
    "\n",
    "pps_new[\"obs\"].mean(axis=0)"
   ]
  },
  {
   "cell_type": "code",
   "execution_count": 253,
   "metadata": {},
   "outputs": [
    {
     "data": {
      "text/plain": [
       "Array([20.98238 , 13.135274], dtype=float32)"
      ]
     },
     "execution_count": 253,
     "metadata": {},
     "output_type": "execute_result"
    }
   ],
   "source": [
    "config_idx_new = jnp.array([0, 1], dtype=jnp.int32)\n",
    "\n",
    "X_test = jnp.array([\n",
    "    [6.0, 2.0, 2.0],\n",
    "    [6.0, 2.0, 2.0]\n",
    "])\n",
    "\n",
    "rng_key, rng_subkey = random.split(key=rng_key)\n",
    "pps_new = predictive(\n",
    "    rng_subkey,\n",
    "    parameter_mask,\n",
    "    config_idx_new,\n",
    "    X_test,\n",
    "    None\n",
    ")\n",
    "\n",
    "pps_new[\"obs\"].mean(axis=0)"
   ]
  },
  {
   "cell_type": "markdown",
   "metadata": {},
   "source": [
    "## Conclusion\n",
    "\n",
    "Hierarchical regression, combined with parameter masking, provides a powerful framework for analyzing grouped data with missing values. This approach allows us to:\n",
    "\n",
    "1. Account for group-specific variations in the relationships between predictors and outcomes.\n",
    "2. Handle missing data without requiring imputation or discarding incomplete cases.\n",
    "3. Make predictions for new data, even when some predictors are not applicable to certain groups.\n",
    "\n",
    "In real-world applications, such as manufacturing process modeling, this methodology enables more accurate modeling and prediction, leading to better decision-making and process improvements. By effectively leveraging all available data, including partial information from groups with missing predictors, we can gain deeper insights into complex processes."
   ]
  }
 ],
 "metadata": {
  "kernelspec": {
   "display_name": ".komax",
   "language": "python",
   "name": "python3"
  },
  "language_info": {
   "codemirror_mode": {
    "name": "ipython",
    "version": 3
   },
   "file_extension": ".py",
   "mimetype": "text/x-python",
   "name": "python",
   "nbconvert_exporter": "python",
   "pygments_lexer": "ipython3",
   "version": "3.12.5"
  }
 },
 "nbformat": 4,
 "nbformat_minor": 2
}
