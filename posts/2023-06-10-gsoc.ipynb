{
 "cells": [
  {
   "cell_type": "raw",
   "metadata": {},
   "source": [
    "---\n",
    "title: Google Summer of Code - Community Bonding and Modularization\n",
    "author: Gabriel Stechschulte\n",
    "categories:\n",
    "- open-source\n",
    "- python\n",
    "- bayesian-statistics\n",
    "date: 2023-06-10\n",
    "---"
   ]
  },
  {
   "attachments": {},
   "cell_type": "markdown",
   "metadata": {},
   "source": [
    "# Google Summer of Code 2023\n",
    "\n",
    "I have been selected as a contributor under the organization [NumFOCUS](https://numfocus.org) for the Google Summer of Code 2023 program. I will be working on _developing better tools to interpret complex Bambi regression models_. More details about the project can be found [here](https://summerofcode.withgoogle.com/projects/#6187085698856448). This blog post will be a summary of the community bonding period and the progress made over the first two weeks of the program.\n",
    "\n",
    "Timeline of events:\n",
    "\n",
    "* Community Bonding Period (May 4th - 28th)\n",
    "* Week 1 (May 29th - June 4th)\n",
    "* Week 2 (June 5th - June 11th)"
   ]
  },
  {
   "attachments": {},
   "cell_type": "markdown",
   "metadata": {},
   "source": [
    "## Community Bonding Period\n",
    "\n",
    "The community bonding period is a time for students to get to know their mentors and organizations, and to change / finalize project details. I have been in contact with my mentors Tomás Capretto and Osvaldo Martin via Slack and GitHub. A goal of mine throughout the community bonding period was not only to get to know my mentors, but also to familiarize myself with the Bambi codebase before coding officially began. To achieve this, I read through the codebase attempting to understand how the different modules interact with one another. Additionally, I read through the Bambi documentation to understand how the different models are implemented, and any additional functionality provided the library. After familarizing myself with the codebase at a high level, I decided to get a jumpstart on the project deliverables for week 1 through 4. Below is a table of the deliverables for the entire project timeline.\n",
    "\n",
    "|Week|Deliverable|\n",
    "|---|---|\n",
    "|1|Review plot_cap() design and relevant Bambi codebase. Discuss grammar of graphics libraries with mentors. Identify any open GitHub issues regarding plot_cap() that would restrict development.|\n",
    "|2|Implement predictions at the observational level for plot_cap(), and add tests, and documentation.|\n",
    "|3|Design of how plot_comparisons() and plot_slopes() can re-utilize the plot_cap() code and be incorporated into the Bambi codebase.|\n",
    "|4|Begin plot_comparisons() implementation|\n",
    "|5|Deliver working example of plot_comparisons() for a simple Bambi model, and open draft PR.|\n",
    "|6|Continue plot_comparisons() implementation. Deliver example on a complex model.|\n",
    "|7|Write tests, examples, and documentation for plot_comparisons(), and open PR.|\n",
    "|8|Begin plot_slopes() implementation.|\n",
    "|9|Deliver working example of plot_slopes() for a simple Bambi model, and open draft PR.|\n",
    "|10|Continue plot_slopes() implementation. Deliver example on a complex model.|\n",
    "|11|Write tests, examples, and documentation for plot_slopes(), and open PR.|\n",
    "|12|Review plot_cap(), plot_comparisons(), and plot_slopes() code. Ensure documentation and examples are correct, and tests pass.|\n",
    "|13|Final submission. This week is a buffer period for code review, unexpected difficulties, and ensuring documentation and added examples are accurate and comprehensive.|"
   ]
  },
  {
   "attachments": {},
   "cell_type": "markdown",
   "metadata": {},
   "source": [
    "# Progress\n",
    "\n",
    "## `plot_cap` using posterior predictive samples\n",
    "\n",
    "Predictions at the observation level for `plot_cap` were implemented in [PR 668](https://github.com/bambinos/bambi/pull/668). By default, `plot_cap` uses the posterior distribution to visualize some mean outcome parameter of a a GLM. However, the posterior predictive distribution can also be plotted by specifying `pps=True` where `pps` stands for _posterior predictive samples_ of the response variable. Upon completion of the PR above, an example showing the functionality of `plot_cap` was added to the Bambi documentation in [PR 670](https://github.com/bambinos/bambi/pull/670).\n",
    "\n",
    "## Modularization of the `plots` sub-package\n",
    "\n",
    "Completing the week one and two deliveribles early on in the program allowed me to spend more time on the design of the `plots` sub-package and implementation of `plot_comparisons`. For the design of the `plots` sub-package, I decided to create five different modules, each with a specific purpose. The modules are as follows:\n",
    "\n",
    "* `create_data.py` - creates the data called by the functions in the `effects.py` and `comparisons.py` modules.\n",
    "* `effects.py` - contains the functions (`predictions`, `comparisons`, `slopes`) that are used to create the dataframe that is passed to the plotting functions and or user when called standalone. \n",
    "* `utils.py` - contains commonly used functions that are called by multiple modules in the `plots` sub-package.\n",
    "* `plotting.py` - contains the plotting functions (`plot_predictions`, `plot_comparisons`, `plot_slopes`) that are used to generate the plots for the user.\n",
    "* `plot_types.py` - determines the plot types (numeric or categorical) for the the `plotting` module.\n",
    "\n",
    "The modularization of the `plots` sub-package will allow for easier maintenance and testing of the codebase and offers re-usability of code using OOP principles. The modularization of code happened during the initial development stages of the `plot_comparisons` function. "
   ]
  },
  {
   "attachments": {},
   "cell_type": "markdown",
   "metadata": {},
   "source": [
    "## Comparisons: `plot_comparisons`\n",
    "\n",
    "Predictive comparisons refers to the predictions made by a model for different covariate values while holding one or more variable constant. For example, we may be interested in the following quantity, \"how does the probability of survival (outcome) change if a passenger travels in 1st class vs. 3rd class? given a certain age and sex?\" Thus, the objective of the comparisons plotting functionality is to plot comparisons on the y-axis against values of one or more covariates on the x-axis\n",
    " \n",
    "Currently, `plot_comparisons` only works when a user explicitly passes the contrast covariate and its value, and the conditional covariate and values they would like to condition on."
   ]
  },
  {
   "cell_type": "code",
   "execution_count": 1,
   "metadata": {},
   "outputs": [],
   "source": [
    "#| code-fold: true\n",
    "import numpy as np\n",
    "import pandas as pd\n",
    "\n",
    "import bambi as bmb\n",
    "from bambi.plots import plot_comparison, comparisons"
   ]
  },
  {
   "cell_type": "code",
   "execution_count": 4,
   "metadata": {},
   "outputs": [],
   "source": [
    "#| code-fold: true\n",
    "dat = pd.read_csv(\n",
    "    \"https://vincentarelbundock.github.io/Rdatasets/csv/Stat2Data/Titanic.csv\", \n",
    "    index_col=0\n",
    ")\n",
    "\n",
    "dat[\"PClass\"] = dat[\"PClass\"].str.replace(\"[st, nd, rd]\", \"\", regex=True)\n",
    "dat[\"PClass\"] = dat[\"PClass\"].str.replace(\"*\", \"0\").astype(int)\n",
    "dat[\"PClass\"] = dat[\"PClass\"].replace(0, np.nan)\n",
    "dat[\"PClass\"] = pd.Categorical(dat[\"PClass\"], ordered=True)\n",
    "dat[\"SexCode\"] = pd.Categorical(dat[\"SexCode\"], ordered=True)\n",
    "dat = dat.dropna(axis=0, how=\"any\")"
   ]
  },
  {
   "cell_type": "code",
   "execution_count": 5,
   "metadata": {},
   "outputs": [
    {
     "name": "stderr",
     "output_type": "stream",
     "text": [
      "Modeling the probability that Survived==1\n",
      "Auto-assigning NUTS sampler...\n",
      "Initializing NUTS using jitter+adapt_diag...\n",
      "Multiprocess sampling (4 chains in 4 jobs)\n",
      "NUTS: [Intercept, PClass, SexCode, PClass:SexCode, Age, PClass:Age, SexCode:Age, PClass:SexCode:Age]\n"
     ]
    },
    {
     "data": {
      "text/html": [
       "\n",
       "<style>\n",
       "    /* Turns off some styling */\n",
       "    progress {\n",
       "        /* gets rid of default border in Firefox and Opera. */\n",
       "        border: none;\n",
       "        /* Needs to be in here for Safari polyfill so background images work as expected. */\n",
       "        background-size: auto;\n",
       "    }\n",
       "    progress:not([value]), progress:not([value])::-webkit-progress-bar {\n",
       "        background: repeating-linear-gradient(45deg, #7e7e7e, #7e7e7e 10px, #5c5c5c 10px, #5c5c5c 20px);\n",
       "    }\n",
       "    .progress-bar-interrupted, .progress-bar-interrupted::-webkit-progress-bar {\n",
       "        background: #F44336;\n",
       "    }\n",
       "</style>\n"
      ],
      "text/plain": [
       "<IPython.core.display.HTML object>"
      ]
     },
     "metadata": {},
     "output_type": "display_data"
    },
    {
     "data": {
      "text/html": [
       "\n",
       "    <div>\n",
       "      <progress value='8000' class='' max='8000' style='width:300px; height:20px; vertical-align: middle;'></progress>\n",
       "      100.00% [8000/8000 00:15&lt;00:00 Sampling 4 chains, 0 divergences]\n",
       "    </div>\n",
       "    "
      ],
      "text/plain": [
       "<IPython.core.display.HTML object>"
      ]
     },
     "metadata": {},
     "output_type": "display_data"
    },
    {
     "name": "stderr",
     "output_type": "stream",
     "text": [
      "Sampling 4 chains for 1_000 tune and 1_000 draw iterations (4_000 + 4_000 draws total) took 16 seconds.\n"
     ]
    }
   ],
   "source": [
    "titanic_model = bmb.Model(\n",
    "    \"Survived ~ PClass * SexCode * Age\", \n",
    "    data=dat, \n",
    "    family=\"bernoulli\"\n",
    ")\n",
    "titanic_idata = titanic_model.fit(\n",
    "    draws=1000, \n",
    "    target_accept=0.95, \n",
    "    random_seed=1234\n",
    ")"
   ]
  },
  {
   "cell_type": "code",
   "execution_count": 9,
   "metadata": {},
   "outputs": [
    {
     "data": {
      "image/png": "[encoded data removed]",
      "text/plain": [
       "<Figure size 700x300 with 1 Axes>"
      ]
     },
     "metadata": {},
     "output_type": "display_data"
    }
   ],
   "source": [
    "# user can also pass a dict into conditional to define the \n",
    "# values used for the conditional variables\n",
    "fig, ax = plot_comparison(\n",
    "    model=titanic_model,\n",
    "    idata=titanic_idata,\n",
    "    contrast={\"PClass\": [1, 3]},\n",
    "    conditional={\"Age\": [50], \"SexCode\": [0, 1]}\n",
    ")\n",
    "fig.set_size_inches(7, 3)"
   ]
  },
  {
   "attachments": {},
   "cell_type": "markdown",
   "metadata": {},
   "source": [
    "Comparing an individual of `Age`= $50$ and `SexCode` = $0$, moving `PClass` from $1$ to $3$ decreases the probability of survival by about $0.2$. For `SexCode` = $1$, the probability of survival decrease by nearly $0.5$. "
   ]
  },
  {
   "attachments": {},
   "cell_type": "markdown",
   "metadata": {},
   "source": [
    "## Next Steps\n",
    "\n",
    "The next weeks will involve adding:\n",
    "* default contrast and conditional values so the user does not have to explicitly pass them.\n",
    "* unit-level comparisons which uses the observed data instead of creating a hypothetical dataset to compute comparison estimates.\n",
    "* an average by argument to allow the user to marginalize over a subset of covariates."
   ]
  }
 ],
 "metadata": {
  "kernelspec": {
   "display_name": "bambinos",
   "language": "python",
   "name": "python3"
  },
  "language_info": {
   "codemirror_mode": {
    "name": "ipython",
    "version": 3
   },
   "file_extension": ".py",
   "mimetype": "text/x-python",
   "name": "python",
   "nbconvert_exporter": "python",
   "pygments_lexer": "ipython3",
   "version": "3.11.0"
  },
  "orig_nbformat": 4
 },
 "nbformat": 4,
 "nbformat_minor": 2
}
